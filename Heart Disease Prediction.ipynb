{
 "cells": [
  {
   "cell_type": "markdown",
   "metadata": {},
   "source": [
    "## Coronary Heart Disease Prediction"
   ]
  },
  {
   "cell_type": "markdown",
   "metadata": {},
   "source": [
    "### Objective:"
   ]
  },
  {
   "cell_type": "markdown",
   "metadata": {},
   "source": [
    "To build a classification model that predicts heart disease in paitents. We have to note that 'TenYearCHD' attribute in our dataset is our target variable where we will be predicting."
   ]
  },
  {
   "cell_type": "markdown",
   "metadata": {},
   "source": [
    "### Importing Libraries"
   ]
  },
  {
   "cell_type": "code",
   "execution_count": 1,
   "metadata": {},
   "outputs": [],
   "source": [
    "import pandas as pd\n",
    "import numpy as np\n",
    "import matplotlib.pyplot as plt\n",
    "from sklearn.model_selection import train_test_split\n",
    "from sklearn.linear_model import LogisticRegression"
   ]
  },
  {
   "cell_type": "markdown",
   "metadata": {},
   "source": [
    "### Loading Dataset"
   ]
  },
  {
   "cell_type": "code",
   "execution_count": 2,
   "metadata": {},
   "outputs": [
    {
     "data": {
      "text/html": [
       "<div>\n",
       "<style scoped>\n",
       "    .dataframe tbody tr th:only-of-type {\n",
       "        vertical-align: middle;\n",
       "    }\n",
       "\n",
       "    .dataframe tbody tr th {\n",
       "        vertical-align: top;\n",
       "    }\n",
       "\n",
       "    .dataframe thead th {\n",
       "        text-align: right;\n",
       "    }\n",
       "</style>\n",
       "<table border=\"1\" class=\"dataframe\">\n",
       "  <thead>\n",
       "    <tr style=\"text-align: right;\">\n",
       "      <th></th>\n",
       "      <th>male</th>\n",
       "      <th>age</th>\n",
       "      <th>education</th>\n",
       "      <th>currentSmoker</th>\n",
       "      <th>cigsPerDay</th>\n",
       "      <th>BPMeds</th>\n",
       "      <th>prevalentStroke</th>\n",
       "      <th>prevalentHyp</th>\n",
       "      <th>diabetes</th>\n",
       "      <th>totChol</th>\n",
       "      <th>sysBP</th>\n",
       "      <th>diaBP</th>\n",
       "      <th>BMI</th>\n",
       "      <th>heartRate</th>\n",
       "      <th>glucose</th>\n",
       "      <th>TenYearCHD</th>\n",
       "    </tr>\n",
       "  </thead>\n",
       "  <tbody>\n",
       "    <tr>\n",
       "      <th>0</th>\n",
       "      <td>1</td>\n",
       "      <td>39</td>\n",
       "      <td>4.0</td>\n",
       "      <td>0</td>\n",
       "      <td>0.0</td>\n",
       "      <td>0.0</td>\n",
       "      <td>0</td>\n",
       "      <td>0</td>\n",
       "      <td>0</td>\n",
       "      <td>195.0</td>\n",
       "      <td>106.0</td>\n",
       "      <td>70.0</td>\n",
       "      <td>26.97</td>\n",
       "      <td>80.0</td>\n",
       "      <td>77.0</td>\n",
       "      <td>0</td>\n",
       "    </tr>\n",
       "    <tr>\n",
       "      <th>1</th>\n",
       "      <td>0</td>\n",
       "      <td>46</td>\n",
       "      <td>2.0</td>\n",
       "      <td>0</td>\n",
       "      <td>0.0</td>\n",
       "      <td>0.0</td>\n",
       "      <td>0</td>\n",
       "      <td>0</td>\n",
       "      <td>0</td>\n",
       "      <td>250.0</td>\n",
       "      <td>121.0</td>\n",
       "      <td>81.0</td>\n",
       "      <td>28.73</td>\n",
       "      <td>95.0</td>\n",
       "      <td>76.0</td>\n",
       "      <td>0</td>\n",
       "    </tr>\n",
       "    <tr>\n",
       "      <th>2</th>\n",
       "      <td>1</td>\n",
       "      <td>48</td>\n",
       "      <td>1.0</td>\n",
       "      <td>1</td>\n",
       "      <td>20.0</td>\n",
       "      <td>0.0</td>\n",
       "      <td>0</td>\n",
       "      <td>0</td>\n",
       "      <td>0</td>\n",
       "      <td>245.0</td>\n",
       "      <td>127.5</td>\n",
       "      <td>80.0</td>\n",
       "      <td>25.34</td>\n",
       "      <td>75.0</td>\n",
       "      <td>70.0</td>\n",
       "      <td>0</td>\n",
       "    </tr>\n",
       "    <tr>\n",
       "      <th>3</th>\n",
       "      <td>0</td>\n",
       "      <td>61</td>\n",
       "      <td>3.0</td>\n",
       "      <td>1</td>\n",
       "      <td>30.0</td>\n",
       "      <td>0.0</td>\n",
       "      <td>0</td>\n",
       "      <td>1</td>\n",
       "      <td>0</td>\n",
       "      <td>225.0</td>\n",
       "      <td>150.0</td>\n",
       "      <td>95.0</td>\n",
       "      <td>28.58</td>\n",
       "      <td>65.0</td>\n",
       "      <td>103.0</td>\n",
       "      <td>1</td>\n",
       "    </tr>\n",
       "    <tr>\n",
       "      <th>4</th>\n",
       "      <td>0</td>\n",
       "      <td>46</td>\n",
       "      <td>3.0</td>\n",
       "      <td>1</td>\n",
       "      <td>23.0</td>\n",
       "      <td>0.0</td>\n",
       "      <td>0</td>\n",
       "      <td>0</td>\n",
       "      <td>0</td>\n",
       "      <td>285.0</td>\n",
       "      <td>130.0</td>\n",
       "      <td>84.0</td>\n",
       "      <td>23.10</td>\n",
       "      <td>85.0</td>\n",
       "      <td>85.0</td>\n",
       "      <td>0</td>\n",
       "    </tr>\n",
       "  </tbody>\n",
       "</table>\n",
       "</div>"
      ],
      "text/plain": [
       "   male  age  education  currentSmoker  cigsPerDay  BPMeds  prevalentStroke  \\\n",
       "0     1   39        4.0              0         0.0     0.0                0   \n",
       "1     0   46        2.0              0         0.0     0.0                0   \n",
       "2     1   48        1.0              1        20.0     0.0                0   \n",
       "3     0   61        3.0              1        30.0     0.0                0   \n",
       "4     0   46        3.0              1        23.0     0.0                0   \n",
       "\n",
       "   prevalentHyp  diabetes  totChol  sysBP  diaBP    BMI  heartRate  glucose  \\\n",
       "0             0         0    195.0  106.0   70.0  26.97       80.0     77.0   \n",
       "1             0         0    250.0  121.0   81.0  28.73       95.0     76.0   \n",
       "2             0         0    245.0  127.5   80.0  25.34       75.0     70.0   \n",
       "3             1         0    225.0  150.0   95.0  28.58       65.0    103.0   \n",
       "4             0         0    285.0  130.0   84.0  23.10       85.0     85.0   \n",
       "\n",
       "   TenYearCHD  \n",
       "0           0  \n",
       "1           0  \n",
       "2           0  \n",
       "3           1  \n",
       "4           0  "
      ]
     },
     "execution_count": 2,
     "metadata": {},
     "output_type": "execute_result"
    }
   ],
   "source": [
    "df = pd.read_csv('framingham.csv')\n",
    "df.head()"
   ]
  },
  {
   "cell_type": "markdown",
   "metadata": {},
   "source": [
    "### Data Cleaning"
   ]
  },
  {
   "cell_type": "code",
   "execution_count": 3,
   "metadata": {},
   "outputs": [
    {
     "data": {
      "text/plain": [
       "(4240, 16)"
      ]
     },
     "execution_count": 3,
     "metadata": {},
     "output_type": "execute_result"
    }
   ],
   "source": [
    "#Dimension of the dataset\n",
    "df.shape"
   ]
  },
  {
   "cell_type": "code",
   "execution_count": 4,
   "metadata": {},
   "outputs": [
    {
     "data": {
      "text/html": [
       "<div>\n",
       "<style scoped>\n",
       "    .dataframe tbody tr th:only-of-type {\n",
       "        vertical-align: middle;\n",
       "    }\n",
       "\n",
       "    .dataframe tbody tr th {\n",
       "        vertical-align: top;\n",
       "    }\n",
       "\n",
       "    .dataframe thead th {\n",
       "        text-align: right;\n",
       "    }\n",
       "</style>\n",
       "<table border=\"1\" class=\"dataframe\">\n",
       "  <thead>\n",
       "    <tr style=\"text-align: right;\">\n",
       "      <th></th>\n",
       "      <th>count</th>\n",
       "      <th>mean</th>\n",
       "      <th>std</th>\n",
       "      <th>min</th>\n",
       "      <th>25%</th>\n",
       "      <th>50%</th>\n",
       "      <th>75%</th>\n",
       "      <th>max</th>\n",
       "    </tr>\n",
       "  </thead>\n",
       "  <tbody>\n",
       "    <tr>\n",
       "      <th>male</th>\n",
       "      <td>4240.0</td>\n",
       "      <td>0.429245</td>\n",
       "      <td>0.495027</td>\n",
       "      <td>0.00</td>\n",
       "      <td>0.00</td>\n",
       "      <td>0.0</td>\n",
       "      <td>1.00</td>\n",
       "      <td>1.0</td>\n",
       "    </tr>\n",
       "    <tr>\n",
       "      <th>age</th>\n",
       "      <td>4240.0</td>\n",
       "      <td>49.580189</td>\n",
       "      <td>8.572942</td>\n",
       "      <td>32.00</td>\n",
       "      <td>42.00</td>\n",
       "      <td>49.0</td>\n",
       "      <td>56.00</td>\n",
       "      <td>70.0</td>\n",
       "    </tr>\n",
       "    <tr>\n",
       "      <th>education</th>\n",
       "      <td>4135.0</td>\n",
       "      <td>1.979444</td>\n",
       "      <td>1.019791</td>\n",
       "      <td>1.00</td>\n",
       "      <td>1.00</td>\n",
       "      <td>2.0</td>\n",
       "      <td>3.00</td>\n",
       "      <td>4.0</td>\n",
       "    </tr>\n",
       "    <tr>\n",
       "      <th>currentSmoker</th>\n",
       "      <td>4240.0</td>\n",
       "      <td>0.494104</td>\n",
       "      <td>0.500024</td>\n",
       "      <td>0.00</td>\n",
       "      <td>0.00</td>\n",
       "      <td>0.0</td>\n",
       "      <td>1.00</td>\n",
       "      <td>1.0</td>\n",
       "    </tr>\n",
       "    <tr>\n",
       "      <th>cigsPerDay</th>\n",
       "      <td>4211.0</td>\n",
       "      <td>9.005937</td>\n",
       "      <td>11.922462</td>\n",
       "      <td>0.00</td>\n",
       "      <td>0.00</td>\n",
       "      <td>0.0</td>\n",
       "      <td>20.00</td>\n",
       "      <td>70.0</td>\n",
       "    </tr>\n",
       "    <tr>\n",
       "      <th>BPMeds</th>\n",
       "      <td>4187.0</td>\n",
       "      <td>0.029615</td>\n",
       "      <td>0.169544</td>\n",
       "      <td>0.00</td>\n",
       "      <td>0.00</td>\n",
       "      <td>0.0</td>\n",
       "      <td>0.00</td>\n",
       "      <td>1.0</td>\n",
       "    </tr>\n",
       "    <tr>\n",
       "      <th>prevalentStroke</th>\n",
       "      <td>4240.0</td>\n",
       "      <td>0.005896</td>\n",
       "      <td>0.076569</td>\n",
       "      <td>0.00</td>\n",
       "      <td>0.00</td>\n",
       "      <td>0.0</td>\n",
       "      <td>0.00</td>\n",
       "      <td>1.0</td>\n",
       "    </tr>\n",
       "    <tr>\n",
       "      <th>prevalentHyp</th>\n",
       "      <td>4240.0</td>\n",
       "      <td>0.310613</td>\n",
       "      <td>0.462799</td>\n",
       "      <td>0.00</td>\n",
       "      <td>0.00</td>\n",
       "      <td>0.0</td>\n",
       "      <td>1.00</td>\n",
       "      <td>1.0</td>\n",
       "    </tr>\n",
       "    <tr>\n",
       "      <th>diabetes</th>\n",
       "      <td>4240.0</td>\n",
       "      <td>0.025708</td>\n",
       "      <td>0.158280</td>\n",
       "      <td>0.00</td>\n",
       "      <td>0.00</td>\n",
       "      <td>0.0</td>\n",
       "      <td>0.00</td>\n",
       "      <td>1.0</td>\n",
       "    </tr>\n",
       "    <tr>\n",
       "      <th>totChol</th>\n",
       "      <td>4190.0</td>\n",
       "      <td>236.699523</td>\n",
       "      <td>44.591284</td>\n",
       "      <td>107.00</td>\n",
       "      <td>206.00</td>\n",
       "      <td>234.0</td>\n",
       "      <td>263.00</td>\n",
       "      <td>696.0</td>\n",
       "    </tr>\n",
       "    <tr>\n",
       "      <th>sysBP</th>\n",
       "      <td>4240.0</td>\n",
       "      <td>132.354599</td>\n",
       "      <td>22.033300</td>\n",
       "      <td>83.50</td>\n",
       "      <td>117.00</td>\n",
       "      <td>128.0</td>\n",
       "      <td>144.00</td>\n",
       "      <td>295.0</td>\n",
       "    </tr>\n",
       "    <tr>\n",
       "      <th>diaBP</th>\n",
       "      <td>4240.0</td>\n",
       "      <td>82.897759</td>\n",
       "      <td>11.910394</td>\n",
       "      <td>48.00</td>\n",
       "      <td>75.00</td>\n",
       "      <td>82.0</td>\n",
       "      <td>90.00</td>\n",
       "      <td>142.5</td>\n",
       "    </tr>\n",
       "    <tr>\n",
       "      <th>BMI</th>\n",
       "      <td>4221.0</td>\n",
       "      <td>25.800801</td>\n",
       "      <td>4.079840</td>\n",
       "      <td>15.54</td>\n",
       "      <td>23.07</td>\n",
       "      <td>25.4</td>\n",
       "      <td>28.04</td>\n",
       "      <td>56.8</td>\n",
       "    </tr>\n",
       "    <tr>\n",
       "      <th>heartRate</th>\n",
       "      <td>4239.0</td>\n",
       "      <td>75.878981</td>\n",
       "      <td>12.025348</td>\n",
       "      <td>44.00</td>\n",
       "      <td>68.00</td>\n",
       "      <td>75.0</td>\n",
       "      <td>83.00</td>\n",
       "      <td>143.0</td>\n",
       "    </tr>\n",
       "    <tr>\n",
       "      <th>glucose</th>\n",
       "      <td>3852.0</td>\n",
       "      <td>81.963655</td>\n",
       "      <td>23.954335</td>\n",
       "      <td>40.00</td>\n",
       "      <td>71.00</td>\n",
       "      <td>78.0</td>\n",
       "      <td>87.00</td>\n",
       "      <td>394.0</td>\n",
       "    </tr>\n",
       "    <tr>\n",
       "      <th>TenYearCHD</th>\n",
       "      <td>4240.0</td>\n",
       "      <td>0.151887</td>\n",
       "      <td>0.358953</td>\n",
       "      <td>0.00</td>\n",
       "      <td>0.00</td>\n",
       "      <td>0.0</td>\n",
       "      <td>0.00</td>\n",
       "      <td>1.0</td>\n",
       "    </tr>\n",
       "  </tbody>\n",
       "</table>\n",
       "</div>"
      ],
      "text/plain": [
       "                  count        mean        std     min     25%    50%     75%  \\\n",
       "male             4240.0    0.429245   0.495027    0.00    0.00    0.0    1.00   \n",
       "age              4240.0   49.580189   8.572942   32.00   42.00   49.0   56.00   \n",
       "education        4135.0    1.979444   1.019791    1.00    1.00    2.0    3.00   \n",
       "currentSmoker    4240.0    0.494104   0.500024    0.00    0.00    0.0    1.00   \n",
       "cigsPerDay       4211.0    9.005937  11.922462    0.00    0.00    0.0   20.00   \n",
       "BPMeds           4187.0    0.029615   0.169544    0.00    0.00    0.0    0.00   \n",
       "prevalentStroke  4240.0    0.005896   0.076569    0.00    0.00    0.0    0.00   \n",
       "prevalentHyp     4240.0    0.310613   0.462799    0.00    0.00    0.0    1.00   \n",
       "diabetes         4240.0    0.025708   0.158280    0.00    0.00    0.0    0.00   \n",
       "totChol          4190.0  236.699523  44.591284  107.00  206.00  234.0  263.00   \n",
       "sysBP            4240.0  132.354599  22.033300   83.50  117.00  128.0  144.00   \n",
       "diaBP            4240.0   82.897759  11.910394   48.00   75.00   82.0   90.00   \n",
       "BMI              4221.0   25.800801   4.079840   15.54   23.07   25.4   28.04   \n",
       "heartRate        4239.0   75.878981  12.025348   44.00   68.00   75.0   83.00   \n",
       "glucose          3852.0   81.963655  23.954335   40.00   71.00   78.0   87.00   \n",
       "TenYearCHD       4240.0    0.151887   0.358953    0.00    0.00    0.0    0.00   \n",
       "\n",
       "                   max  \n",
       "male               1.0  \n",
       "age               70.0  \n",
       "education          4.0  \n",
       "currentSmoker      1.0  \n",
       "cigsPerDay        70.0  \n",
       "BPMeds             1.0  \n",
       "prevalentStroke    1.0  \n",
       "prevalentHyp       1.0  \n",
       "diabetes           1.0  \n",
       "totChol          696.0  \n",
       "sysBP            295.0  \n",
       "diaBP            142.5  \n",
       "BMI               56.8  \n",
       "heartRate        143.0  \n",
       "glucose          394.0  \n",
       "TenYearCHD         1.0  "
      ]
     },
     "execution_count": 4,
     "metadata": {},
     "output_type": "execute_result"
    }
   ],
   "source": [
    "#Summary of the dataset\n",
    "df.describe().T"
   ]
  },
  {
   "cell_type": "code",
   "execution_count": 5,
   "metadata": {},
   "outputs": [
    {
     "name": "stdout",
     "output_type": "stream",
     "text": [
      "<class 'pandas.core.frame.DataFrame'>\n",
      "RangeIndex: 4240 entries, 0 to 4239\n",
      "Data columns (total 16 columns):\n",
      " #   Column           Non-Null Count  Dtype  \n",
      "---  ------           --------------  -----  \n",
      " 0   male             4240 non-null   int64  \n",
      " 1   age              4240 non-null   int64  \n",
      " 2   education        4135 non-null   float64\n",
      " 3   currentSmoker    4240 non-null   int64  \n",
      " 4   cigsPerDay       4211 non-null   float64\n",
      " 5   BPMeds           4187 non-null   float64\n",
      " 6   prevalentStroke  4240 non-null   int64  \n",
      " 7   prevalentHyp     4240 non-null   int64  \n",
      " 8   diabetes         4240 non-null   int64  \n",
      " 9   totChol          4190 non-null   float64\n",
      " 10  sysBP            4240 non-null   float64\n",
      " 11  diaBP            4240 non-null   float64\n",
      " 12  BMI              4221 non-null   float64\n",
      " 13  heartRate        4239 non-null   float64\n",
      " 14  glucose          3852 non-null   float64\n",
      " 15  TenYearCHD       4240 non-null   int64  \n",
      "dtypes: float64(9), int64(7)\n",
      "memory usage: 530.1 KB\n"
     ]
    }
   ],
   "source": [
    "#Features of the dataset\n",
    "df.info()"
   ]
  },
  {
   "cell_type": "code",
   "execution_count": 6,
   "metadata": {},
   "outputs": [
    {
     "data": {
      "text/plain": [
       "Index(['male', 'age', 'education', 'currentSmoker', 'cigsPerDay', 'BPMeds',\n",
       "       'prevalentStroke', 'prevalentHyp', 'diabetes', 'totChol', 'sysBP',\n",
       "       'diaBP', 'BMI', 'heartRate', 'glucose', 'TenYearCHD'],\n",
       "      dtype='object')"
      ]
     },
     "execution_count": 6,
     "metadata": {},
     "output_type": "execute_result"
    }
   ],
   "source": [
    "#List of columns\n",
    "df.columns"
   ]
  },
  {
   "cell_type": "markdown",
   "metadata": {},
   "source": [
    "### Missing Value Imputation"
   ]
  },
  {
   "cell_type": "code",
   "execution_count": 7,
   "metadata": {},
   "outputs": [
    {
     "data": {
      "text/plain": [
       "male                 0\n",
       "age                  0\n",
       "education          105\n",
       "currentSmoker        0\n",
       "cigsPerDay          29\n",
       "BPMeds              53\n",
       "prevalentStroke      0\n",
       "prevalentHyp         0\n",
       "diabetes             0\n",
       "totChol             50\n",
       "sysBP                0\n",
       "diaBP                0\n",
       "BMI                 19\n",
       "heartRate            1\n",
       "glucose            388\n",
       "TenYearCHD           0\n",
       "dtype: int64"
      ]
     },
     "execution_count": 7,
     "metadata": {},
     "output_type": "execute_result"
    }
   ],
   "source": [
    "#Missing values\n",
    "df.isna().sum()"
   ]
  },
  {
   "cell_type": "code",
   "execution_count": 8,
   "metadata": {},
   "outputs": [],
   "source": [
    "#Mean Imputation for missing values\n",
    "\n",
    "df = df.apply(lambda x: x.fillna(x.mean()),axis=0)"
   ]
  },
  {
   "cell_type": "code",
   "execution_count": 9,
   "metadata": {},
   "outputs": [
    {
     "data": {
      "text/plain": [
       "male               0\n",
       "age                0\n",
       "education          0\n",
       "currentSmoker      0\n",
       "cigsPerDay         0\n",
       "BPMeds             0\n",
       "prevalentStroke    0\n",
       "prevalentHyp       0\n",
       "diabetes           0\n",
       "totChol            0\n",
       "sysBP              0\n",
       "diaBP              0\n",
       "BMI                0\n",
       "heartRate          0\n",
       "glucose            0\n",
       "TenYearCHD         0\n",
       "dtype: int64"
      ]
     },
     "execution_count": 9,
     "metadata": {},
     "output_type": "execute_result"
    }
   ],
   "source": [
    "#After imputation checking for missing values\n",
    "df.isna().sum()"
   ]
  },
  {
   "cell_type": "markdown",
   "metadata": {},
   "source": [
    "### Exploratory Data Analysis:"
   ]
  },
  {
   "cell_type": "markdown",
   "metadata": {},
   "source": [
    "### A. Univariate Analysis:"
   ]
  },
  {
   "cell_type": "code",
   "execution_count": 10,
   "metadata": {},
   "outputs": [
    {
     "name": "stderr",
     "output_type": "stream",
     "text": [
      "C:\\Users\\KAVIYA\\anaconda3\\lib\\site-packages\\ipykernel_launcher.py:4: UserWarning: To output multiple subplots, the figure containing the passed axes is being cleared\n",
      "  after removing the cwd from sys.path.\n"
     ]
    },
    {
     "data": {
      "text/plain": [
       "array([[<matplotlib.axes._subplots.AxesSubplot object at 0x0000018637880408>,\n",
       "        <matplotlib.axes._subplots.AxesSubplot object at 0x00000186378B79C8>,\n",
       "        <matplotlib.axes._subplots.AxesSubplot object at 0x00000186378F2988>,\n",
       "        <matplotlib.axes._subplots.AxesSubplot object at 0x000001863792AA88>],\n",
       "       [<matplotlib.axes._subplots.AxesSubplot object at 0x0000018637961B88>,\n",
       "        <matplotlib.axes._subplots.AxesSubplot object at 0x0000018637999588>,\n",
       "        <matplotlib.axes._subplots.AxesSubplot object at 0x00000186379D7E48>,\n",
       "        <matplotlib.axes._subplots.AxesSubplot object at 0x0000018637A09788>],\n",
       "       [<matplotlib.axes._subplots.AxesSubplot object at 0x0000018637A15348>,\n",
       "        <matplotlib.axes._subplots.AxesSubplot object at 0x0000018637A4B548>,\n",
       "        <matplotlib.axes._subplots.AxesSubplot object at 0x0000018637AB1A88>,\n",
       "        <matplotlib.axes._subplots.AxesSubplot object at 0x0000018637AEABC8>],\n",
       "       [<matplotlib.axes._subplots.AxesSubplot object at 0x0000018637B22D08>,\n",
       "        <matplotlib.axes._subplots.AxesSubplot object at 0x0000018637B59E08>,\n",
       "        <matplotlib.axes._subplots.AxesSubplot object at 0x0000018637B92F48>,\n",
       "        <matplotlib.axes._subplots.AxesSubplot object at 0x0000018637BC8F88>]],\n",
       "      dtype=object)"
      ]
     },
     "execution_count": 10,
     "metadata": {},
     "output_type": "execute_result"
    },
    {
     "data": {
      "image/png": "[encoded data removed]",
      "text/plain": [
       "<Figure size 1080x1440 with 16 Axes>"
      ]
     },
     "metadata": {
      "needs_background": "light"
     },
     "output_type": "display_data"
    }
   ],
   "source": [
    "# checking distributions using histograms\n",
    "fig = plt.figure(figsize = (15,20))\n",
    "ax = fig.gca()\n",
    "df.hist(ax = ax)"
   ]
  },
  {
   "cell_type": "markdown",
   "metadata": {},
   "source": [
    "### B. Correlation Analysis:"
   ]
  },
  {
   "cell_type": "code",
   "execution_count": 11,
   "metadata": {},
   "outputs": [
    {
     "data": {
      "text/html": [
       "<div>\n",
       "<style scoped>\n",
       "    .dataframe tbody tr th:only-of-type {\n",
       "        vertical-align: middle;\n",
       "    }\n",
       "\n",
       "    .dataframe tbody tr th {\n",
       "        vertical-align: top;\n",
       "    }\n",
       "\n",
       "    .dataframe thead th {\n",
       "        text-align: right;\n",
       "    }\n",
       "</style>\n",
       "<table border=\"1\" class=\"dataframe\">\n",
       "  <thead>\n",
       "    <tr style=\"text-align: right;\">\n",
       "      <th></th>\n",
       "      <th>male</th>\n",
       "      <th>age</th>\n",
       "      <th>education</th>\n",
       "      <th>currentSmoker</th>\n",
       "      <th>cigsPerDay</th>\n",
       "      <th>BPMeds</th>\n",
       "      <th>prevalentStroke</th>\n",
       "      <th>prevalentHyp</th>\n",
       "      <th>diabetes</th>\n",
       "      <th>totChol</th>\n",
       "      <th>sysBP</th>\n",
       "      <th>diaBP</th>\n",
       "      <th>BMI</th>\n",
       "      <th>heartRate</th>\n",
       "      <th>glucose</th>\n",
       "      <th>TenYearCHD</th>\n",
       "    </tr>\n",
       "  </thead>\n",
       "  <tbody>\n",
       "    <tr>\n",
       "      <th>male</th>\n",
       "      <td>1.000000</td>\n",
       "      <td>-0.029014</td>\n",
       "      <td>0.017188</td>\n",
       "      <td>0.197026</td>\n",
       "      <td>0.316023</td>\n",
       "      <td>-0.052203</td>\n",
       "      <td>-0.004550</td>\n",
       "      <td>0.005853</td>\n",
       "      <td>0.015693</td>\n",
       "      <td>-0.070064</td>\n",
       "      <td>-0.035879</td>\n",
       "      <td>0.058199</td>\n",
       "      <td>0.081705</td>\n",
       "      <td>-0.116913</td>\n",
       "      <td>0.005718</td>\n",
       "      <td>0.088374</td>\n",
       "    </tr>\n",
       "    <tr>\n",
       "      <th>age</th>\n",
       "      <td>-0.029014</td>\n",
       "      <td>1.000000</td>\n",
       "      <td>-0.164081</td>\n",
       "      <td>-0.213662</td>\n",
       "      <td>-0.192534</td>\n",
       "      <td>0.122036</td>\n",
       "      <td>0.057679</td>\n",
       "      <td>0.306799</td>\n",
       "      <td>0.101314</td>\n",
       "      <td>0.260691</td>\n",
       "      <td>0.394053</td>\n",
       "      <td>0.205586</td>\n",
       "      <td>0.135578</td>\n",
       "      <td>-0.012839</td>\n",
       "      <td>0.116951</td>\n",
       "      <td>0.225408</td>\n",
       "    </tr>\n",
       "    <tr>\n",
       "      <th>education</th>\n",
       "      <td>0.017188</td>\n",
       "      <td>-0.164081</td>\n",
       "      <td>1.000000</td>\n",
       "      <td>0.018297</td>\n",
       "      <td>0.008197</td>\n",
       "      <td>-0.010689</td>\n",
       "      <td>-0.035139</td>\n",
       "      <td>-0.080753</td>\n",
       "      <td>-0.038214</td>\n",
       "      <td>-0.022993</td>\n",
       "      <td>-0.128126</td>\n",
       "      <td>-0.061362</td>\n",
       "      <td>-0.135876</td>\n",
       "      <td>-0.053603</td>\n",
       "      <td>-0.033837</td>\n",
       "      <td>-0.053571</td>\n",
       "    </tr>\n",
       "    <tr>\n",
       "      <th>currentSmoker</th>\n",
       "      <td>0.197026</td>\n",
       "      <td>-0.213662</td>\n",
       "      <td>0.018297</td>\n",
       "      <td>1.000000</td>\n",
       "      <td>0.767055</td>\n",
       "      <td>-0.048621</td>\n",
       "      <td>-0.032980</td>\n",
       "      <td>-0.103710</td>\n",
       "      <td>-0.044285</td>\n",
       "      <td>-0.046211</td>\n",
       "      <td>-0.130281</td>\n",
       "      <td>-0.107933</td>\n",
       "      <td>-0.167483</td>\n",
       "      <td>0.062678</td>\n",
       "      <td>-0.054062</td>\n",
       "      <td>0.019448</td>\n",
       "    </tr>\n",
       "    <tr>\n",
       "      <th>cigsPerDay</th>\n",
       "      <td>0.316023</td>\n",
       "      <td>-0.192534</td>\n",
       "      <td>0.008197</td>\n",
       "      <td>0.767055</td>\n",
       "      <td>1.000000</td>\n",
       "      <td>-0.045847</td>\n",
       "      <td>-0.032711</td>\n",
       "      <td>-0.066444</td>\n",
       "      <td>-0.037086</td>\n",
       "      <td>-0.026182</td>\n",
       "      <td>-0.088523</td>\n",
       "      <td>-0.056473</td>\n",
       "      <td>-0.092888</td>\n",
       "      <td>0.075257</td>\n",
       "      <td>-0.056020</td>\n",
       "      <td>0.057646</td>\n",
       "    </tr>\n",
       "    <tr>\n",
       "      <th>BPMeds</th>\n",
       "      <td>-0.052203</td>\n",
       "      <td>0.122036</td>\n",
       "      <td>-0.010689</td>\n",
       "      <td>-0.048621</td>\n",
       "      <td>-0.045847</td>\n",
       "      <td>1.000000</td>\n",
       "      <td>0.115008</td>\n",
       "      <td>0.259125</td>\n",
       "      <td>0.051584</td>\n",
       "      <td>0.078973</td>\n",
       "      <td>0.252023</td>\n",
       "      <td>0.192387</td>\n",
       "      <td>0.099586</td>\n",
       "      <td>0.015172</td>\n",
       "      <td>0.048925</td>\n",
       "      <td>0.086805</td>\n",
       "    </tr>\n",
       "    <tr>\n",
       "      <th>prevalentStroke</th>\n",
       "      <td>-0.004550</td>\n",
       "      <td>0.057679</td>\n",
       "      <td>-0.035139</td>\n",
       "      <td>-0.032980</td>\n",
       "      <td>-0.032711</td>\n",
       "      <td>0.115008</td>\n",
       "      <td>1.000000</td>\n",
       "      <td>0.074791</td>\n",
       "      <td>0.006955</td>\n",
       "      <td>0.000105</td>\n",
       "      <td>0.057000</td>\n",
       "      <td>0.045153</td>\n",
       "      <td>0.024856</td>\n",
       "      <td>-0.017674</td>\n",
       "      <td>0.018065</td>\n",
       "      <td>0.061823</td>\n",
       "    </tr>\n",
       "    <tr>\n",
       "      <th>prevalentHyp</th>\n",
       "      <td>0.005853</td>\n",
       "      <td>0.306799</td>\n",
       "      <td>-0.080753</td>\n",
       "      <td>-0.103710</td>\n",
       "      <td>-0.066444</td>\n",
       "      <td>0.259125</td>\n",
       "      <td>0.074791</td>\n",
       "      <td>1.000000</td>\n",
       "      <td>0.077752</td>\n",
       "      <td>0.162683</td>\n",
       "      <td>0.696656</td>\n",
       "      <td>0.615840</td>\n",
       "      <td>0.300599</td>\n",
       "      <td>0.146777</td>\n",
       "      <td>0.082757</td>\n",
       "      <td>0.177458</td>\n",
       "    </tr>\n",
       "    <tr>\n",
       "      <th>diabetes</th>\n",
       "      <td>0.015693</td>\n",
       "      <td>0.101314</td>\n",
       "      <td>-0.038214</td>\n",
       "      <td>-0.044285</td>\n",
       "      <td>-0.037086</td>\n",
       "      <td>0.051584</td>\n",
       "      <td>0.006955</td>\n",
       "      <td>0.077752</td>\n",
       "      <td>1.000000</td>\n",
       "      <td>0.040161</td>\n",
       "      <td>0.111265</td>\n",
       "      <td>0.050260</td>\n",
       "      <td>0.086282</td>\n",
       "      <td>0.048986</td>\n",
       "      <td>0.605709</td>\n",
       "      <td>0.097344</td>\n",
       "    </tr>\n",
       "    <tr>\n",
       "      <th>totChol</th>\n",
       "      <td>-0.070064</td>\n",
       "      <td>0.260691</td>\n",
       "      <td>-0.022993</td>\n",
       "      <td>-0.046211</td>\n",
       "      <td>-0.026182</td>\n",
       "      <td>0.078973</td>\n",
       "      <td>0.000105</td>\n",
       "      <td>0.162683</td>\n",
       "      <td>0.040161</td>\n",
       "      <td>1.000000</td>\n",
       "      <td>0.207436</td>\n",
       "      <td>0.163423</td>\n",
       "      <td>0.115013</td>\n",
       "      <td>0.090678</td>\n",
       "      <td>0.044710</td>\n",
       "      <td>0.081807</td>\n",
       "    </tr>\n",
       "    <tr>\n",
       "      <th>sysBP</th>\n",
       "      <td>-0.035879</td>\n",
       "      <td>0.394053</td>\n",
       "      <td>-0.128126</td>\n",
       "      <td>-0.130281</td>\n",
       "      <td>-0.088523</td>\n",
       "      <td>0.252023</td>\n",
       "      <td>0.057000</td>\n",
       "      <td>0.696656</td>\n",
       "      <td>0.111265</td>\n",
       "      <td>0.207436</td>\n",
       "      <td>1.000000</td>\n",
       "      <td>0.783952</td>\n",
       "      <td>0.325172</td>\n",
       "      <td>0.182084</td>\n",
       "      <td>0.134561</td>\n",
       "      <td>0.216374</td>\n",
       "    </tr>\n",
       "    <tr>\n",
       "      <th>diaBP</th>\n",
       "      <td>0.058199</td>\n",
       "      <td>0.205586</td>\n",
       "      <td>-0.061362</td>\n",
       "      <td>-0.107933</td>\n",
       "      <td>-0.056473</td>\n",
       "      <td>0.192387</td>\n",
       "      <td>0.045153</td>\n",
       "      <td>0.615840</td>\n",
       "      <td>0.050260</td>\n",
       "      <td>0.163423</td>\n",
       "      <td>0.783952</td>\n",
       "      <td>1.000000</td>\n",
       "      <td>0.376317</td>\n",
       "      <td>0.181012</td>\n",
       "      <td>0.058499</td>\n",
       "      <td>0.145112</td>\n",
       "    </tr>\n",
       "    <tr>\n",
       "      <th>BMI</th>\n",
       "      <td>0.081705</td>\n",
       "      <td>0.135578</td>\n",
       "      <td>-0.135876</td>\n",
       "      <td>-0.167483</td>\n",
       "      <td>-0.092888</td>\n",
       "      <td>0.099586</td>\n",
       "      <td>0.024856</td>\n",
       "      <td>0.300599</td>\n",
       "      <td>0.086282</td>\n",
       "      <td>0.115013</td>\n",
       "      <td>0.325172</td>\n",
       "      <td>0.376317</td>\n",
       "      <td>1.000000</td>\n",
       "      <td>0.067318</td>\n",
       "      <td>0.082123</td>\n",
       "      <td>0.074788</td>\n",
       "    </tr>\n",
       "    <tr>\n",
       "      <th>heartRate</th>\n",
       "      <td>-0.116913</td>\n",
       "      <td>-0.012839</td>\n",
       "      <td>-0.053603</td>\n",
       "      <td>0.062678</td>\n",
       "      <td>0.075257</td>\n",
       "      <td>0.015172</td>\n",
       "      <td>-0.017674</td>\n",
       "      <td>0.146777</td>\n",
       "      <td>0.048986</td>\n",
       "      <td>0.090678</td>\n",
       "      <td>0.182084</td>\n",
       "      <td>0.181012</td>\n",
       "      <td>0.067318</td>\n",
       "      <td>1.000000</td>\n",
       "      <td>0.089386</td>\n",
       "      <td>0.022892</td>\n",
       "    </tr>\n",
       "    <tr>\n",
       "      <th>glucose</th>\n",
       "      <td>0.005718</td>\n",
       "      <td>0.116951</td>\n",
       "      <td>-0.033837</td>\n",
       "      <td>-0.054062</td>\n",
       "      <td>-0.056020</td>\n",
       "      <td>0.048925</td>\n",
       "      <td>0.018065</td>\n",
       "      <td>0.082757</td>\n",
       "      <td>0.605709</td>\n",
       "      <td>0.044710</td>\n",
       "      <td>0.134561</td>\n",
       "      <td>0.058499</td>\n",
       "      <td>0.082123</td>\n",
       "      <td>0.089386</td>\n",
       "      <td>1.000000</td>\n",
       "      <td>0.120451</td>\n",
       "    </tr>\n",
       "    <tr>\n",
       "      <th>TenYearCHD</th>\n",
       "      <td>0.088374</td>\n",
       "      <td>0.225408</td>\n",
       "      <td>-0.053571</td>\n",
       "      <td>0.019448</td>\n",
       "      <td>0.057646</td>\n",
       "      <td>0.086805</td>\n",
       "      <td>0.061823</td>\n",
       "      <td>0.177458</td>\n",
       "      <td>0.097344</td>\n",
       "      <td>0.081807</td>\n",
       "      <td>0.216374</td>\n",
       "      <td>0.145112</td>\n",
       "      <td>0.074788</td>\n",
       "      <td>0.022892</td>\n",
       "      <td>0.120451</td>\n",
       "      <td>1.000000</td>\n",
       "    </tr>\n",
       "  </tbody>\n",
       "</table>\n",
       "</div>"
      ],
      "text/plain": [
       "                     male       age  education  currentSmoker  cigsPerDay  \\\n",
       "male             1.000000 -0.029014   0.017188       0.197026    0.316023   \n",
       "age             -0.029014  1.000000  -0.164081      -0.213662   -0.192534   \n",
       "education        0.017188 -0.164081   1.000000       0.018297    0.008197   \n",
       "currentSmoker    0.197026 -0.213662   0.018297       1.000000    0.767055   \n",
       "cigsPerDay       0.316023 -0.192534   0.008197       0.767055    1.000000   \n",
       "BPMeds          -0.052203  0.122036  -0.010689      -0.048621   -0.045847   \n",
       "prevalentStroke -0.004550  0.057679  -0.035139      -0.032980   -0.032711   \n",
       "prevalentHyp     0.005853  0.306799  -0.080753      -0.103710   -0.066444   \n",
       "diabetes         0.015693  0.101314  -0.038214      -0.044285   -0.037086   \n",
       "totChol         -0.070064  0.260691  -0.022993      -0.046211   -0.026182   \n",
       "sysBP           -0.035879  0.394053  -0.128126      -0.130281   -0.088523   \n",
       "diaBP            0.058199  0.205586  -0.061362      -0.107933   -0.056473   \n",
       "BMI              0.081705  0.135578  -0.135876      -0.167483   -0.092888   \n",
       "heartRate       -0.116913 -0.012839  -0.053603       0.062678    0.075257   \n",
       "glucose          0.005718  0.116951  -0.033837      -0.054062   -0.056020   \n",
       "TenYearCHD       0.088374  0.225408  -0.053571       0.019448    0.057646   \n",
       "\n",
       "                   BPMeds  prevalentStroke  prevalentHyp  diabetes   totChol  \\\n",
       "male            -0.052203        -0.004550      0.005853  0.015693 -0.070064   \n",
       "age              0.122036         0.057679      0.306799  0.101314  0.260691   \n",
       "education       -0.010689        -0.035139     -0.080753 -0.038214 -0.022993   \n",
       "currentSmoker   -0.048621        -0.032980     -0.103710 -0.044285 -0.046211   \n",
       "cigsPerDay      -0.045847        -0.032711     -0.066444 -0.037086 -0.026182   \n",
       "BPMeds           1.000000         0.115008      0.259125  0.051584  0.078973   \n",
       "prevalentStroke  0.115008         1.000000      0.074791  0.006955  0.000105   \n",
       "prevalentHyp     0.259125         0.074791      1.000000  0.077752  0.162683   \n",
       "diabetes         0.051584         0.006955      0.077752  1.000000  0.040161   \n",
       "totChol          0.078973         0.000105      0.162683  0.040161  1.000000   \n",
       "sysBP            0.252023         0.057000      0.696656  0.111265  0.207436   \n",
       "diaBP            0.192387         0.045153      0.615840  0.050260  0.163423   \n",
       "BMI              0.099586         0.024856      0.300599  0.086282  0.115013   \n",
       "heartRate        0.015172        -0.017674      0.146777  0.048986  0.090678   \n",
       "glucose          0.048925         0.018065      0.082757  0.605709  0.044710   \n",
       "TenYearCHD       0.086805         0.061823      0.177458  0.097344  0.081807   \n",
       "\n",
       "                    sysBP     diaBP       BMI  heartRate   glucose  TenYearCHD  \n",
       "male            -0.035879  0.058199  0.081705  -0.116913  0.005718    0.088374  \n",
       "age              0.394053  0.205586  0.135578  -0.012839  0.116951    0.225408  \n",
       "education       -0.128126 -0.061362 -0.135876  -0.053603 -0.033837   -0.053571  \n",
       "currentSmoker   -0.130281 -0.107933 -0.167483   0.062678 -0.054062    0.019448  \n",
       "cigsPerDay      -0.088523 -0.056473 -0.092888   0.075257 -0.056020    0.057646  \n",
       "BPMeds           0.252023  0.192387  0.099586   0.015172  0.048925    0.086805  \n",
       "prevalentStroke  0.057000  0.045153  0.024856  -0.017674  0.018065    0.061823  \n",
       "prevalentHyp     0.696656  0.615840  0.300599   0.146777  0.082757    0.177458  \n",
       "diabetes         0.111265  0.050260  0.086282   0.048986  0.605709    0.097344  \n",
       "totChol          0.207436  0.163423  0.115013   0.090678  0.044710    0.081807  \n",
       "sysBP            1.000000  0.783952  0.325172   0.182084  0.134561    0.216374  \n",
       "diaBP            0.783952  1.000000  0.376317   0.181012  0.058499    0.145112  \n",
       "BMI              0.325172  0.376317  1.000000   0.067318  0.082123    0.074788  \n",
       "heartRate        0.182084  0.181012  0.067318   1.000000  0.089386    0.022892  \n",
       "glucose          0.134561  0.058499  0.082123   0.089386  1.000000    0.120451  \n",
       "TenYearCHD       0.216374  0.145112  0.074788   0.022892  0.120451    1.000000  "
      ]
     },
     "execution_count": 11,
     "metadata": {},
     "output_type": "execute_result"
    }
   ],
   "source": [
    "#Correlation between the features\n",
    "df_corr = df.corr()\n",
    "df_corr"
   ]
  },
  {
   "cell_type": "markdown",
   "metadata": {},
   "source": [
    "### Model Building"
   ]
  },
  {
   "cell_type": "code",
   "execution_count": 12,
   "metadata": {},
   "outputs": [],
   "source": [
    "#Splittinng Predictors and Target variable\n",
    "X = df.iloc[:,:-1]\n",
    "Y = df.iloc[:,-1]"
   ]
  },
  {
   "cell_type": "code",
   "execution_count": 13,
   "metadata": {},
   "outputs": [],
   "source": [
    "#Train- test split\n",
    "x_train,x_test,y_train,y_test = train_test_split(X, Y, test_size=0.2,random_state=0)"
   ]
  },
  {
   "cell_type": "code",
   "execution_count": 14,
   "metadata": {},
   "outputs": [
    {
     "name": "stderr",
     "output_type": "stream",
     "text": [
      "C:\\Users\\KAVIYA\\anaconda3\\lib\\site-packages\\sklearn\\linear_model\\_logistic.py:940: ConvergenceWarning: lbfgs failed to converge (status=1):\n",
      "STOP: TOTAL NO. of ITERATIONS REACHED LIMIT.\n",
      "\n",
      "Increase the number of iterations (max_iter) or scale the data as shown in:\n",
      "    https://scikit-learn.org/stable/modules/preprocessing.html\n",
      "Please also refer to the documentation for alternative solver options:\n",
      "    https://scikit-learn.org/stable/modules/linear_model.html#logistic-regression\n",
      "  extra_warning_msg=_LOGISTIC_SOLVER_CONVERGENCE_MSG)\n"
     ]
    },
    {
     "data": {
      "text/plain": [
       "LogisticRegression(C=1.0, class_weight=None, dual=False, fit_intercept=True,\n",
       "                   intercept_scaling=1, l1_ratio=None, max_iter=100,\n",
       "                   multi_class='auto', n_jobs=None, penalty='l2',\n",
       "                   random_state=None, solver='lbfgs', tol=0.0001, verbose=0,\n",
       "                   warm_start=False)"
      ]
     },
     "execution_count": 14,
     "metadata": {},
     "output_type": "execute_result"
    }
   ],
   "source": [
    "#Fitting logistic regression model\n",
    "lg = LogisticRegression()\n",
    "lg.fit(x_train,y_train)"
   ]
  },
  {
   "cell_type": "code",
   "execution_count": 15,
   "metadata": {},
   "outputs": [],
   "source": [
    "#Predictions\n",
    "y_pred = lg.predict(x_test)"
   ]
  },
  {
   "cell_type": "markdown",
   "metadata": {},
   "source": [
    "### Model Performance"
   ]
  },
  {
   "cell_type": "code",
   "execution_count": 16,
   "metadata": {},
   "outputs": [
    {
     "name": "stdout",
     "output_type": "stream",
     "text": [
      "Accuracy of my model  0.8561320754716981\n"
     ]
    }
   ],
   "source": [
    "#Model Accuracy\n",
    "from sklearn.metrics import accuracy_score\n",
    "print('Accuracy of my model ' ,accuracy_score(y_test,y_pred))"
   ]
  },
  {
   "cell_type": "code",
   "execution_count": 17,
   "metadata": {},
   "outputs": [
    {
     "name": "stdout",
     "output_type": "stream",
     "text": [
      "              precision    recall  f1-score   support\n",
      "\n",
      "           0       0.86      1.00      0.92       722\n",
      "           1       0.75      0.05      0.09       126\n",
      "\n",
      "    accuracy                           0.86       848\n",
      "   macro avg       0.80      0.52      0.51       848\n",
      "weighted avg       0.84      0.86      0.80       848\n",
      "\n"
     ]
    }
   ],
   "source": [
    "#Classification Performance metrics\n",
    "from sklearn.metrics import classification_report\n",
    "print(classification_report(y_test, y_pred))"
   ]
  },
  {
   "cell_type": "code",
   "execution_count": 18,
   "metadata": {},
   "outputs": [
    {
     "name": "stdout",
     "output_type": "stream",
     "text": [
      "[[720   2]\n",
      " [120   6]]\n"
     ]
    }
   ],
   "source": [
    "#Confusion matrix\n",
    "from sklearn.metrics import confusion_matrix\n",
    "cm = confusion_matrix(y_test,y_pred)\n",
    "print(cm)"
   ]
  },
  {
   "cell_type": "markdown",
   "metadata": {},
   "source": [
    "### Pickle File"
   ]
  },
  {
   "cell_type": "code",
   "execution_count": 19,
   "metadata": {},
   "outputs": [],
   "source": [
    "import pickle"
   ]
  },
  {
   "cell_type": "code",
   "execution_count": 20,
   "metadata": {},
   "outputs": [],
   "source": [
    "#Open a file in pickle to save the model, in writing mode, note the extension\n",
    "pkl_file= open(\"heart_predict.pkl\",\"wb\")"
   ]
  },
  {
   "cell_type": "code",
   "execution_count": 21,
   "metadata": {},
   "outputs": [],
   "source": [
    "#To save the model in pickle file\n",
    "pickle.dump(lg, pkl_file)"
   ]
  },
  {
   "cell_type": "code",
   "execution_count": 22,
   "metadata": {},
   "outputs": [],
   "source": [
    "#closing file\n",
    "pkl_file.close()"
   ]
  },
  {
   "cell_type": "code",
   "execution_count": 25,
   "metadata": {},
   "outputs": [],
   "source": [
    "#Test file\n",
    "x_test.to_csv('heart_test.csv')"
   ]
  },
  {
   "cell_type": "code",
   "execution_count": 26,
   "metadata": {},
   "outputs": [
    {
     "name": "stderr",
     "output_type": "stream",
     "text": [
      "WARNING: Could not generate requirement for distribution -tatsmodels 0.11.0 (c:\\users\\kaviya\\anaconda3\\lib\\site-packages): Parse error at \"'-tatsmod'\": Expected W:(abcd...)\n"
     ]
    }
   ],
   "source": [
    "#List of requirement\n",
    "!pip freeze -> requirement.txt"
   ]
  },
  {
   "cell_type": "code",
   "execution_count": null,
   "metadata": {},
   "outputs": [],
   "source": []
  },
  {
   "cell_type": "code",
   "execution_count": null,
   "metadata": {},
   "outputs": [],
   "source": []
  }
 ],
 "metadata": {
  "kernelspec": {
   "display_name": "Python 3",
   "language": "python",
   "name": "python3"
  },
  "language_info": {
   "codemirror_mode": {
    "name": "ipython",
    "version": 3
   },
   "file_extension": ".py",
   "mimetype": "text/x-python",
   "name": "python",
   "nbconvert_exporter": "python",
   "pygments_lexer": "ipython3",
   "version": "3.7.6"
  }
 },
 "nbformat": 4,
 "nbformat_minor": 4
}
